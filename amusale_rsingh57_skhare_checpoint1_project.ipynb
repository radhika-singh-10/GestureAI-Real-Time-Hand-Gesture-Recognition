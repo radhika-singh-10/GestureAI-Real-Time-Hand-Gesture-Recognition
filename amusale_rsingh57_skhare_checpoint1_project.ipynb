{
 "cells": [
  {
   "cell_type": "code",
   "execution_count": 202,
   "metadata": {},
   "outputs": [
    {
     "name": "stdout",
     "output_type": "stream",
     "text": [
      "=> Output folder for this run -- jester_conv_4_classes\n",
      " > Using 8 processes for data loader.\n",
      " > Training is getting started...\n",
      " > Training takes 5 epochs.\n",
      " > Current LR : 0.001\n",
      "0it [00:00, ?it/s]Epoch: [0][0/100]\tLoss 1.6859 (1.6859)\tPrec@1 10.000 (10.000)\tPrec@5 100.000 (100.000)\n",
      "100it [05:38,  3.38s/it]\n",
      "Test: [0/20]\tLoss 1.4475 (1.4475)\tPrec@1 10.000 (10.000)\tPrec@5 100.000 (100.000)\n",
      " * Prec@1 21.106 Prec@5 100.000\n",
      "0.001\n",
      " > Current LR : 0.001\n",
      "0it [00:00, ?it/s]Epoch: [1][0/100]\tLoss 1.8998 (1.8998)\tPrec@1 10.000 (10.000)\tPrec@5 100.000 (100.000)\n",
      "100it [05:44,  3.44s/it]\n",
      "Test: [0/20]\tLoss 1.0458 (1.0458)\tPrec@1 50.000 (50.000)\tPrec@5 100.000 (100.000)\n",
      " * Prec@1 43.719 Prec@5 100.000\n",
      "0.001\n",
      " > Current LR : 0.001\n",
      "0it [00:00, ?it/s]Epoch: [2][0/100]\tLoss 1.7281 (1.7281)\tPrec@1 20.000 (20.000)\tPrec@5 100.000 (100.000)\n",
      "100it [05:45,  3.45s/it]\n",
      "Test: [0/20]\tLoss 1.4951 (1.4951)\tPrec@1 50.000 (50.000)\tPrec@5 100.000 (100.000)\n",
      " * Prec@1 45.729 Prec@5 100.000\n",
      "0.001\n",
      " > Current LR : 0.001\n",
      "0it [00:00, ?it/s]Epoch: [3][0/100]\tLoss 1.2843 (1.2843)\tPrec@1 60.000 (60.000)\tPrec@5 100.000 (100.000)\n",
      "100it [05:44,  3.45s/it]\n",
      "Test: [0/20]\tLoss 1.2930 (1.2930)\tPrec@1 60.000 (60.000)\tPrec@5 100.000 (100.000)\n",
      " * Prec@1 54.271 Prec@5 100.000\n",
      "0.001\n",
      " > Current LR : 0.001\n",
      "0it [00:00, ?it/s]Epoch: [4][0/100]\tLoss 1.3798 (1.3798)\tPrec@1 50.000 (50.000)\tPrec@5 100.000 (100.000)\n",
      "100it [05:47,  3.47s/it]\n",
      "Test: [0/20]\tLoss 1.4914 (1.4914)\tPrec@1 50.000 (50.000)\tPrec@5 100.000 (100.000)\n",
      " * Prec@1 54.774 Prec@5 100.000\n",
      "0.001\n"
     ]
    }
   ],
   "source": [
    "!python3 train.py --config configs/config_quick_testing.json --use_gpu=False"
   ]
  },
  {
   "cell_type": "code",
   "execution_count": 9,
   "metadata": {},
   "outputs": [
    {
     "name": "stdout",
     "output_type": "stream",
     "text": [
      "Traceback (most recent call last):\n",
      "  File \"/Users/atharvamusale/Downloads/DL_Project/CVND---Gesture-Recognition/test.py\", line 11, in <module>\n",
      "    model.load_state_dict(state_dict)\n",
      "  File \"/Library/Frameworks/Python.framework/Versions/3.11/lib/python3.11/site-packages/torch/nn/modules/module.py\", line 2153, in load_state_dict\n",
      "    raise RuntimeError('Error(s) in loading state_dict for {}:\\n\\t{}'.format(\n",
      "RuntimeError: Error(s) in loading state_dict for GestureDetection:\n",
      "\tMissing key(s) in state_dict: \"conv_layer1.1.weight\", \"conv_layer1.1.bias\", \"conv_layer1.1.running_mean\", \"conv_layer1.1.running_var\", \"conv_layer2.1.weight\", \"conv_layer2.1.bias\", \"conv_layer2.1.running_mean\", \"conv_layer2.1.running_var\", \"conv_layer3.1.weight\", \"conv_layer3.1.bias\", \"conv_layer3.1.running_mean\", \"conv_layer3.1.running_var\", \"fc3.weight\", \"fc3.bias\", \"fc4.weight\", \"fc4.bias\". \n",
      "\tUnexpected key(s) in state_dict: \"conv_layer4.0.weight\", \"conv_layer4.0.bias\", \"conv_layer4.2.weight\", \"conv_layer4.2.bias\", \"conv_layer4.2.running_mean\", \"conv_layer4.2.running_var\", \"conv_layer4.2.num_batches_tracked\", \"fc5.weight\", \"fc5.bias\", \"fc6.weight\", \"fc6.bias\", \"conv_layer1.2.weight\", \"conv_layer1.2.bias\", \"conv_layer1.2.running_mean\", \"conv_layer1.2.running_var\", \"conv_layer1.2.num_batches_tracked\", \"conv_layer2.2.weight\", \"conv_layer2.2.bias\", \"conv_layer2.2.running_mean\", \"conv_layer2.2.running_var\", \"conv_layer2.2.num_batches_tracked\", \"conv_layer3.2.weight\", \"conv_layer3.2.bias\", \"conv_layer3.2.running_mean\", \"conv_layer3.2.running_var\", \"conv_layer3.2.num_batches_tracked\". \n"
     ]
    }
   ],
   "source": [
    "!python3 test.py"
   ]
  },
  {
   "cell_type": "code",
   "execution_count": 5,
   "metadata": {},
   "outputs": [
    {
     "name": "stdout",
     "output_type": "stream",
     "text": [
      "=> Output folder for this run -- 5_class_test\n",
      " > Using 8 processes for data loader.\n",
      " > Training is getting started...\n",
      " > Training takes 5 epochs.\n",
      " > Current LR : 0.01\n",
      "0it [00:00, ?it/s]Epoch: [0][0/100]\tLoss 1.8015 (1.8015)\tPrec@1 0.000 (0.000)\tPrec@5 100.000 (100.000)\n",
      "100it [07:01,  4.22s/it]\n",
      "Test: [0/20]\tLoss 3.2468 (3.2468)\tPrec@1 40.000 (40.000)\tPrec@5 100.000 (100.000)\n",
      " * Prec@1 43.216 Prec@5 100.000\n",
      "0.01\n",
      " > Current LR : 0.01\n",
      "0it [00:00, ?it/s]Epoch: [1][0/100]\tLoss 14.1698 (14.1698)\tPrec@1 40.000 (40.000)\tPrec@5 100.000 (100.000)\n",
      "100it [08:07,  4.88s/it]\n",
      "Test: [0/20]\tLoss 2.0253 (2.0253)\tPrec@1 50.000 (50.000)\tPrec@5 100.000 (100.000)\n",
      " * Prec@1 43.216 Prec@5 100.000\n",
      "0.01\n",
      " > Current LR : 0.01\n",
      "0it [00:00, ?it/s]Epoch: [2][0/100]\tLoss 1.5603 (1.5603)\tPrec@1 50.000 (50.000)\tPrec@5 100.000 (100.000)\n",
      "100it [07:58,  4.79s/it]\n",
      "Test: [0/20]\tLoss 1.5086 (1.5086)\tPrec@1 50.000 (50.000)\tPrec@5 100.000 (100.000)\n",
      " * Prec@1 43.216 Prec@5 100.000\n",
      "0.01\n",
      " > Current LR : 0.01\n",
      "0it [00:00, ?it/s]Epoch: [3][0/100]\tLoss 1.5224 (1.5224)\tPrec@1 40.000 (40.000)\tPrec@5 100.000 (100.000)\n",
      "100it [06:36,  3.97s/it]\n",
      "Test: [0/20]\tLoss 2.0859 (2.0859)\tPrec@1 0.000 (0.000)\tPrec@5 100.000 (100.000)\n",
      " * Prec@1 12.060 Prec@5 100.000\n",
      "0.01\n",
      " > Current LR : 0.01\n",
      "0it [00:00, ?it/s]Epoch: [4][0/100]\tLoss 2.0012 (2.0012)\tPrec@1 0.000 (0.000)\tPrec@5 100.000 (100.000)\n",
      "100it [07:02,  4.22s/it]\n",
      "Test: [0/20]\tLoss 2.3958 (2.3958)\tPrec@1 0.000 (0.000)\tPrec@5 100.000 (100.000)\n",
      " * Prec@1 12.060 Prec@5 100.000\n",
      "0.01\n"
     ]
    }
   ],
   "source": [
    "!python3 train.py --config configs/config_quick_testing.json --use_gpu=False"
   ]
  },
  {
   "cell_type": "code",
   "execution_count": 10,
   "metadata": {},
   "outputs": [
    {
     "name": "stdout",
     "output_type": "stream",
     "text": [
      "torch.Size([5, 27])\n"
     ]
    }
   ],
   "source": [
    "import torch\n",
    "import torch.nn as nn\n",
    "\n",
    "class GestureDetection(nn.Module):\n",
    "\n",
    "    def __init__(self, num_classes):\n",
    "        super(GestureDetection, self).__init__()\n",
    "\n",
    "        self.conv_layer1 = self.conv_layer(3, 64, (1, 2, 2), (1, 2, 2))\n",
    "        self.conv_layer2 = self.conv_layer(64, 128, (2, 2, 2), (2, 2, 2))\n",
    "        self.conv_layer3 = self.conv_layer(128, 256, (2, 2, 2), (2, 2, 2))\n",
    "\n",
    "        self.fc3 = nn.Linear(102400, 1024)\n",
    "        self.act = nn.SELU()\n",
    "        self.fc4 = nn.Linear(1024, num_classes)\n",
    "\n",
    "    def conv_layer(self, in_c, out_c, pool_size, stride):\n",
    "        conv_layer = nn.Sequential(\n",
    "            nn.Conv3d(in_c, out_c, kernel_size=3, stride=1, padding=1),\n",
    "            nn.BatchNorm3d(out_c),\n",
    "            nn.Dropout3d(p=0.1),\n",
    "            nn.SELU(),\n",
    "            nn.MaxPool3d(pool_size, stride=stride, padding=0)\n",
    "        )\n",
    "        return conv_layer\n",
    "\n",
    "    def forward(self, x):\n",
    "        x = self.conv_layer1(x)\n",
    "        x = self.conv_layer2(x)\n",
    "        x = self.conv_layer3(x)\n",
    "\n",
    "        x = x.view(x.size(0), -1)\n",
    "\n",
    "        x = self.fc3(x)\n",
    "        x = self.act(x)\n",
    "        x = self.fc4(x)\n",
    "        return x\n",
    "\n",
    "\n",
    "if __name__ == \"__main__\":\n",
    "    input_tensor = torch.autograd.Variable(torch.rand(5, 3, 18, 84, 84))\n",
    "    model = GestureDetection(27) \n",
    "    output = model(input_tensor)\n",
    "    print(output.size())\n",
    "\n"
   ]
  },
  {
   "cell_type": "code",
   "execution_count": 12,
   "metadata": {},
   "outputs": [
    {
     "name": "stdout",
     "output_type": "stream",
     "text": [
      "Collecting torchsummary\n",
      "  Downloading torchsummary-1.5.1-py3-none-any.whl.metadata (296 bytes)\n",
      "Downloading torchsummary-1.5.1-py3-none-any.whl (2.8 kB)\n",
      "Installing collected packages: torchsummary\n",
      "Successfully installed torchsummary-1.5.1\n",
      "\n",
      "\u001b[1m[\u001b[0m\u001b[34;49mnotice\u001b[0m\u001b[1;39;49m]\u001b[0m\u001b[39;49m A new release of pip is available: \u001b[0m\u001b[31;49m23.3.1\u001b[0m\u001b[39;49m -> \u001b[0m\u001b[32;49m24.0\u001b[0m\n",
      "\u001b[1m[\u001b[0m\u001b[34;49mnotice\u001b[0m\u001b[1;39;49m]\u001b[0m\u001b[39;49m To update, run: \u001b[0m\u001b[32;49mpip install --upgrade pip\u001b[0m\n"
     ]
    }
   ],
   "source": [
    "!pip install torchsummary"
   ]
  },
  {
   "cell_type": "code",
   "execution_count": 13,
   "metadata": {},
   "outputs": [
    {
     "name": "stdout",
     "output_type": "stream",
     "text": [
      "----------------------------------------------------------------\n",
      "        Layer (type)               Output Shape         Param #\n",
      "================================================================\n",
      "            Conv3d-1       [-1, 64, 18, 84, 84]           5,248\n",
      "       BatchNorm3d-2       [-1, 64, 18, 84, 84]             128\n",
      "         Dropout3d-3       [-1, 64, 18, 84, 84]               0\n",
      "              SELU-4       [-1, 64, 18, 84, 84]               0\n",
      "         MaxPool3d-5       [-1, 64, 18, 42, 42]               0\n",
      "            Conv3d-6      [-1, 128, 18, 42, 42]         221,312\n",
      "       BatchNorm3d-7      [-1, 128, 18, 42, 42]             256\n",
      "         Dropout3d-8      [-1, 128, 18, 42, 42]               0\n",
      "              SELU-9      [-1, 128, 18, 42, 42]               0\n",
      "        MaxPool3d-10       [-1, 128, 9, 21, 21]               0\n",
      "           Conv3d-11       [-1, 256, 9, 21, 21]         884,992\n",
      "      BatchNorm3d-12       [-1, 256, 9, 21, 21]             512\n",
      "        Dropout3d-13       [-1, 256, 9, 21, 21]               0\n",
      "             SELU-14       [-1, 256, 9, 21, 21]               0\n",
      "        MaxPool3d-15       [-1, 256, 4, 10, 10]               0\n",
      "           Linear-16                 [-1, 1024]     104,858,624\n",
      "             SELU-17                 [-1, 1024]               0\n",
      "           Linear-18                   [-1, 27]          27,675\n",
      "================================================================\n",
      "Total params: 105,998,747\n",
      "Trainable params: 105,998,747\n",
      "Non-trainable params: 0\n",
      "----------------------------------------------------------------\n",
      "Input size (MB): 1.45\n",
      "Forward/backward pass size (MB): 423.28\n",
      "Params size (MB): 404.35\n",
      "Estimated Total Size (MB): 829.09\n",
      "----------------------------------------------------------------\n"
     ]
    }
   ],
   "source": [
    "import torch\n",
    "import torch.nn as nn\n",
    "from torchsummary import summary\n",
    "\n",
    "class GestureDetection(nn.Module):\n",
    "\n",
    "    def __init__(self, num_classes):\n",
    "        super(GestureDetection, self).__init__()\n",
    "\n",
    "        self.conv_layer1 = self.conv_layer(3, 64, (1, 2, 2), (1, 2, 2))\n",
    "        self.conv_layer2 = self.conv_layer(64, 128, (2, 2, 2), (2, 2, 2))\n",
    "        self.conv_layer3 = self.conv_layer(128, 256, (2, 2, 2), (2, 2, 2))\n",
    "\n",
    "        self.fc3 = nn.Linear(102400, 1024)\n",
    "        self.act = nn.SELU()\n",
    "        self.fc4 = nn.Linear(1024, num_classes)\n",
    "\n",
    "    def conv_layer(self, in_c, out_c, pool_size, stride):\n",
    "        conv_layer = nn.Sequential(\n",
    "            nn.Conv3d(in_c, out_c, kernel_size=3, stride=1, padding=1),\n",
    "            nn.BatchNorm3d(out_c),\n",
    "            nn.Dropout3d(p=0.1),\n",
    "            nn.SELU(),\n",
    "            nn.MaxPool3d(pool_size, stride=stride, padding=0)\n",
    "        )\n",
    "        return conv_layer\n",
    "\n",
    "    def forward(self, x):\n",
    "        x = self.conv_layer1(x)\n",
    "        x = self.conv_layer2(x)\n",
    "        x = self.conv_layer3(x)\n",
    "\n",
    "        x = x.view(x.size(0), -1)\n",
    "\n",
    "        x = self.fc3(x)\n",
    "        x = self.act(x)\n",
    "        x = self.fc4(x)\n",
    "        return x\n",
    "\n",
    "if __name__ == \"__main__\":\n",
    "    model = GestureDetection(27)\n",
    "    summary(model, (3, 18, 84, 84))\n"
   ]
  }
 ],
 "metadata": {
  "kernelspec": {
   "display_name": "Python 3",
   "language": "python",
   "name": "python3"
  },
  "language_info": {
   "codemirror_mode": {
    "name": "ipython",
    "version": 3
   },
   "file_extension": ".py",
   "mimetype": "text/x-python",
   "name": "python",
   "nbconvert_exporter": "python",
   "pygments_lexer": "ipython3",
   "version": "3.11.6"
  },
  "orig_nbformat": 4
 },
 "nbformat": 4,
 "nbformat_minor": 2
}
